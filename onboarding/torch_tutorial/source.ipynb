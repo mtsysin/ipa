{
 "cells": [
  {
   "attachments": {},
   "cell_type": "markdown",
   "metadata": {},
   "source": [
    "Implementation of basic pytorch tutorial from https://pytorch.org/tutorials/beginner/basics/quickstart_tutorial.html"
   ]
  },
  {
   "cell_type": "code",
   "execution_count": 1,
   "metadata": {},
   "outputs": [],
   "source": [
    "import torch\n",
    "from torch import nn\n",
    "from torch.utils.data import DataLoader\n",
    "from torchvision import datasets\n",
    "from torchvision.transforms import ToTensor"
   ]
  },
  {
   "cell_type": "code",
   "execution_count": 2,
   "metadata": {},
   "outputs": [],
   "source": [
    "# Downloading training dataset \n",
    "training_data = datasets.FashionMNIST(\n",
    "    root=\"data\",    # root repoository\n",
    "    train=True,     # setting training data\n",
    "    download=True,  # downloading the files\n",
    "    transform=ToTensor(),   # transform the images to tensor 0..1\n",
    ")\n",
    "\n",
    "# Download testing data\n",
    "test_data = datasets.FashionMNIST(\n",
    "    root=\"data\",    # root repoository\n",
    "    train=False,     # setting testing data\n",
    "    download=True,  # downloading the files\n",
    "    transform=ToTensor(),   # transform the images to tensor 0..1\n",
    ")\n"
   ]
  },
  {
   "cell_type": "code",
   "execution_count": 3,
   "metadata": {},
   "outputs": [
    {
     "name": "stdout",
     "output_type": "stream",
     "text": [
      "Shape of X [N, C, H, W]: torch.Size([64, 1, 28, 28])\n",
      "Shape of y: torch.Size([64]) torch.int64\n",
      "Shape of X [N, C, H, W]: torch.Size([64, 1, 28, 28])\n",
      "Shape of y: torch.Size([64]) torch.int64\n",
      "938\n",
      "157\n",
      "60000\n",
      "10000\n"
     ]
    }
   ],
   "source": [
    "# Create dataloaders for downloaded datasets\n",
    "# Dataloaders speed up batch processing\n",
    "\n",
    "batch_size = 64\n",
    "train_dataloader = DataLoader(\n",
    "    dataset=training_data, # Passing the dataset of interest\n",
    "    batch_size=batch_size   # will load with these batches\n",
    ")\n",
    "test_dataloader = DataLoader(\n",
    "    dataset=test_data, \n",
    "    batch_size=batch_size\n",
    ")\n",
    "\n",
    "for X, y in train_dataloader:\n",
    "    print(f\"Shape of X [N, C, H, W]: {X.shape}\")\n",
    "    print(f\"Shape of y: {y.shape} {y.dtype}\")\n",
    "    break\n",
    "\n",
    "for X, y in test_dataloader:\n",
    "    print(f\"Shape of X [N, C, H, W]: {X.shape}\")\n",
    "    print(f\"Shape of y: {y.shape} {y.dtype}\")\n",
    "    break\n",
    "\n",
    "# Numer of batches in dataloader\n",
    "print(len(train_dataloader))\n",
    "print(len(test_dataloader))\n",
    "\n",
    "# Number of images in a dataset (should be approximately equal to number of batcjes * batch size)\n",
    "print(len(training_data))\n",
    "print(len(test_data))"
   ]
  },
  {
   "attachments": {},
   "cell_type": "markdown",
   "metadata": {},
   "source": [
    "Create model for training. Inheriting form nn.Module\n",
    "nn.Faltten() by default is responsible for converting all the dimensions starting form 1 to the end into a single dimension."
   ]
  },
  {
   "cell_type": "code",
   "execution_count": 4,
   "metadata": {},
   "outputs": [
    {
     "name": "stdout",
     "output_type": "stream",
     "text": [
      "True\n",
      "Using device cpu\n",
      "myNeuralNetwork(\n",
      "  (flatten): Flatten(start_dim=1, end_dim=-1)\n",
      "  (linear_relu_stack): Sequential(\n",
      "    (0): Linear(in_features=784, out_features=512, bias=True)\n",
      "    (1): ReLU()\n",
      "    (2): Linear(in_features=512, out_features=512, bias=True)\n",
      "    (3): ReLU()\n",
      "    (4): Linear(in_features=512, out_features=10, bias=True)\n",
      "  )\n",
      ")\n"
     ]
    }
   ],
   "source": [
    "print(torch.has_mps)\n",
    "device = \"cuda\" if torch.cuda.is_available() else \"mps\" if torch.backends.mps.is_available() else \"cpu\"\n",
    "device = \"cpu\"\n",
    "\n",
    "# MPS - for apple silicon, diesn'tt work for some reason, always outputs 10 perscent accuracy.\n",
    "\n",
    "print(f\"Using device {device}\")\n",
    "\n",
    "# Define model, inheriting form nn.Module\n",
    "class myNeuralNetwork(nn.Module):\n",
    "    def __init__(self) -> None:\n",
    "        super().__init__()\n",
    "        self.flatten = nn.Flatten()\n",
    "        self.linear_relu_stack = nn.Sequential( # Combines all the operations in it into a single\n",
    "            nn.Linear(28*28, 512), # linear layer, converts 28*28 values into 512 values\n",
    "            nn.ReLU(),  # Applies ReLU activation function to the previously outputted tensor.\n",
    "            nn.Linear(512, 512),    # linear layer, converts 512 values into 512 values\n",
    "            nn.ReLU(),  # ReLU\n",
    "            nn.Linear(512, 10)  # linear layer, converts 512 values into 10 values\n",
    "        )\n",
    "    def forward(self, x): # applies this function whenever the class instance is called\n",
    "        # Flatten the image from [1 color, 28, 28] to [28*28], final dimension [batch_size, 28*28]\n",
    "        # Apply forward\n",
    "        return self.linear_relu_stack(self.flatten(x))\n",
    "\n",
    "# Get info\n",
    "model = myNeuralNetwork().to(device)\n",
    "print(model)"
   ]
  },
  {
   "attachments": {},
   "cell_type": "markdown",
   "metadata": {},
   "source": [
    "Optimize the model, create loss and optimizer instances\n",
    "https://pytorch.org/docs/stable/generated/torch.nn.CrossEntropyLoss.html#torch.nn.CrossEntropyLoss\n",
    "https://pytorch.org/docs/stable/optim.html"
   ]
  },
  {
   "cell_type": "code",
   "execution_count": 5,
   "metadata": {},
   "outputs": [],
   "source": [
    "loss_fn = nn.CrossEntropyLoss() # Use cross entropy loss,useful for classification problems\n",
    "optimizer = torch.optim.SGD(model.parameters(), lr=1e-3) # Stochastic gradient descent\n",
    "\n",
    "def train(dataloader, model, loss_fn, optimizer):\n",
    "    size = len(dataloader.dataset)\n",
    "    model.train()   # Sets the module in training mode.\n",
    "    for batch, (X, y) in enumerate(dataloader):\n",
    "        X, y = X.to(device), y.to(device)\n",
    "\n",
    "        # Prediction error loss:\n",
    "        pred = model(X)\n",
    "        loss = loss_fn(pred, y)\n",
    "\n",
    "        # Backpropagation --- ??????\n",
    "        optimizer.zero_grad()\n",
    "        loss.backward()\n",
    "        optimizer.step()\n",
    "\n",
    "        if batch%100==0:\n",
    "            loss, current = loss.item(), batch * len(X)\n",
    "            print(f\"loss: {loss:>7f}  [{current:>5d}/{size:>5d}]\")\n",
    "\n"
   ]
  },
  {
   "attachments": {},
   "cell_type": "markdown",
   "metadata": {},
   "source": [
    "Checking model performance"
   ]
  },
  {
   "cell_type": "code",
   "execution_count": 6,
   "metadata": {},
   "outputs": [],
   "source": [
    "def test(dataloader, model, loss_fn):\n",
    "    size = len(dataloader.dataset)\n",
    "    print(size)\n",
    "    num_batches = len(dataloader)\n",
    "    model.eval() # Convert to evaluation mode\n",
    "    test_loss, correct = 0, 0\n",
    "    with torch.no_grad(): # disable gradient compute\n",
    "        for X, y in dataloader:\n",
    "            X, y = X.to(device), y.to(device) # Copy values to device\n",
    "            pred = model(X) # Compute prediction step\n",
    "            test_loss += loss_fn(pred, y).item() # add current loss\n",
    "            # print((pred.argmax(1) == y).type(torch.float).sum().item() )\n",
    "            correct += (pred.argmax(1) == y).type(torch.float).sum().item() # Argmax gives maximum class from cross entropy\n",
    "            # We add 1 if classes are equal for every image in the batch\n",
    "    # print(pred)\n",
    "    test_loss /= num_batches # Reduce by the number of batches (loss per batch)\n",
    "    # print(correct)\n",
    "    correct /= size # correct guesses percentage\n",
    "    print(f\"Test Error: \\n Accuracy: {(100*correct):>0.1f}%, Avg loss: {test_loss:>8f} \\n\")"
   ]
  },
  {
   "attachments": {},
   "cell_type": "markdown",
   "metadata": {},
   "source": [
    "Train neural network"
   ]
  },
  {
   "cell_type": "code",
   "execution_count": 7,
   "metadata": {},
   "outputs": [
    {
     "name": "stdout",
     "output_type": "stream",
     "text": [
      "Epoch 1\n",
      "-------------------\n",
      "loss: 2.289746  [    0/60000]\n",
      "loss: 2.282587  [ 6400/60000]\n",
      "loss: 2.259116  [12800/60000]\n",
      "loss: 2.258056  [19200/60000]\n",
      "loss: 2.245529  [25600/60000]\n",
      "loss: 2.202357  [32000/60000]\n",
      "loss: 2.224488  [38400/60000]\n",
      "loss: 2.181476  [44800/60000]\n",
      "loss: 2.179456  [51200/60000]\n",
      "loss: 2.155030  [57600/60000]\n",
      "10000\n",
      "Test Error: \n",
      " Accuracy: 39.9%, Avg loss: 2.144190 \n",
      "\n",
      "Epoch 2\n",
      "-------------------\n",
      "loss: 2.156468  [    0/60000]\n",
      "loss: 2.143260  [ 6400/60000]\n",
      "loss: 2.083412  [12800/60000]\n",
      "loss: 2.097937  [19200/60000]\n",
      "loss: 2.046090  [25600/60000]\n",
      "loss: 1.981461  [32000/60000]\n",
      "loss: 2.010474  [38400/60000]\n",
      "loss: 1.930524  [44800/60000]\n",
      "loss: 1.938086  [51200/60000]\n",
      "loss: 1.858826  [57600/60000]\n",
      "10000\n",
      "Test Error: \n",
      " Accuracy: 55.9%, Avg loss: 1.860266 \n",
      "\n",
      "Epoch 3\n",
      "-------------------\n",
      "loss: 1.905449  [    0/60000]\n",
      "loss: 1.862724  [ 6400/60000]\n",
      "loss: 1.748428  [12800/60000]\n",
      "loss: 1.782942  [19200/60000]\n",
      "loss: 1.672586  [25600/60000]\n",
      "loss: 1.633474  [32000/60000]\n",
      "loss: 1.647265  [38400/60000]\n",
      "loss: 1.561005  [44800/60000]\n",
      "loss: 1.585159  [51200/60000]\n",
      "loss: 1.473229  [57600/60000]\n",
      "10000\n",
      "Test Error: \n",
      " Accuracy: 60.1%, Avg loss: 1.495865 \n",
      "\n",
      "Epoch 4\n",
      "-------------------\n",
      "loss: 1.579576  [    0/60000]\n",
      "loss: 1.528896  [ 6400/60000]\n",
      "loss: 1.384909  [12800/60000]\n",
      "loss: 1.447142  [19200/60000]\n",
      "loss: 1.334242  [25600/60000]\n",
      "loss: 1.339884  [32000/60000]\n",
      "loss: 1.345803  [38400/60000]\n",
      "loss: 1.281425  [44800/60000]\n",
      "loss: 1.308363  [51200/60000]\n",
      "loss: 1.212908  [57600/60000]\n",
      "10000\n",
      "Test Error: \n",
      " Accuracy: 63.0%, Avg loss: 1.236942 \n",
      "\n",
      "Epoch 5\n",
      "-------------------\n",
      "loss: 1.326866  [    0/60000]\n",
      "loss: 1.292575  [ 6400/60000]\n",
      "loss: 1.129978  [12800/60000]\n",
      "loss: 1.232673  [19200/60000]\n",
      "loss: 1.115353  [25600/60000]\n",
      "loss: 1.144704  [32000/60000]\n",
      "loss: 1.161547  [38400/60000]\n",
      "loss: 1.106150  [44800/60000]\n",
      "loss: 1.136551  [51200/60000]\n",
      "loss: 1.057699  [57600/60000]\n",
      "10000\n",
      "Test Error: \n",
      " Accuracy: 64.5%, Avg loss: 1.076756 \n",
      "\n",
      "Done!\n"
     ]
    }
   ],
   "source": [
    "epochs = 5\n",
    "for t in range(epochs):\n",
    "    print(f\"Epoch {t+1}\\n-------------------\")\n",
    "    train(train_dataloader, model, loss_fn, optimizer)\n",
    "    test(test_dataloader, model, loss_fn)\n",
    "print(\"Done!\")"
   ]
  }
 ],
 "metadata": {
  "kernelspec": {
   "display_name": "Python 3.8.16 ('vip-dl')",
   "language": "python",
   "name": "python3"
  },
  "language_info": {
   "codemirror_mode": {
    "name": "ipython",
    "version": 3
   },
   "file_extension": ".py",
   "mimetype": "text/x-python",
   "name": "python",
   "nbconvert_exporter": "python",
   "pygments_lexer": "ipython3",
   "version": "3.9.16"
  },
  "orig_nbformat": 4,
  "vscode": {
   "interpreter": {
    "hash": "7919a292473ba924ae5eeef086fa459b4948d37329b4e31d064255c2bf5492cc"
   }
  }
 },
 "nbformat": 4,
 "nbformat_minor": 2
}
